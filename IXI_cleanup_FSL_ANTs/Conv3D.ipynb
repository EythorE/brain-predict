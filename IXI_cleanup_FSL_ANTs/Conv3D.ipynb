{
 "cells": [
  {
   "cell_type": "code",
   "execution_count": 1,
   "metadata": {},
   "outputs": [],
   "source": [
    "import numpy as np\n",
    "import pandas as pd\n",
    "import nibabel as nib\n",
    "import os"
   ]
  },
  {
   "cell_type": "code",
   "execution_count": 2,
   "metadata": {},
   "outputs": [
    {
     "name": "stderr",
     "output_type": "stream",
     "text": [
      "Using TensorFlow backend.\n"
     ]
    }
   ],
   "source": [
    "import keras\n",
    "from keras.layers import Conv3D, MaxPool3D, Flatten, Dense, Activation\n",
    "from keras.layers import Dropout, Input, BatchNormalization\n",
    "from keras.losses import mse\n",
    "from keras.optimizers import Adadelta\n",
    "from keras.models import Model\n",
    "\n",
    "from sklearn.metrics import mean_squared_error"
   ]
  },
  {
   "cell_type": "code",
   "execution_count": 3,
   "metadata": {},
   "outputs": [],
   "source": [
    "## extra imports to set GPU options\n",
    "import tensorflow as tf\n",
    "from keras import backend as k\n",
    " \n",
    "###################################\n",
    "# TensorFlow wizardry\n",
    "config = tf.ConfigProto()\n",
    " \n",
    "# Don't pre-allocate memory; allocate as-needed\n",
    "config.gpu_options.allow_growth = True\n",
    " \n",
    "# Create a session with the above options specified.\n",
    "k.tensorflow_backend.set_session(tf.Session(config=config))\n",
    "###################################\n",
    "\n",
    "## seed\n",
    "np.random.seed(1)\n",
    "tf.set_random_seed(2)"
   ]
  },
  {
   "cell_type": "code",
   "execution_count": 4,
   "metadata": {},
   "outputs": [],
   "source": [
    "def Conv3D_model(input_shape):\n",
    "    input_layer = Input(input_shape)\n",
    "\n",
    "    conv_layer1 = Conv3D(filters=1, kernel_size=(3, 3, 3))(input_layer)\n",
    "    conv_layer1 = BatchNormalization()(conv_layer1)\n",
    "    conv_layer1 = Activation('relu')(conv_layer1)\n",
    "    pooling_layer1 = MaxPool3D(pool_size=(2, 2, 2))(conv_layer1)\n",
    "\n",
    "    conv_layer2 = Conv3D(filters=1, kernel_size=(3, 3, 3))(pooling_layer1)\n",
    "    conv_layer2 = BatchNormalization()(conv_layer2)\n",
    "    conv_layer2 = Activation('relu')(conv_layer2)\n",
    "    pooling_layer2 = MaxPool3D(pool_size=(2, 2, 2))(conv_layer2)\n",
    "\n",
    "    conv_layer3 = Conv3D(filters=16, kernel_size=(3, 3, 3))(pooling_layer2)\n",
    "    conv_layer3 = BatchNormalization()(conv_layer3)\n",
    "    conv_layer3 = Activation('relu')(conv_layer3)\n",
    "    pooling_layer3 = MaxPool3D(pool_size=(2, 2, 2))(conv_layer3)\n",
    "\n",
    "    conv_layer4 = Conv3D(filters=32, kernel_size=(3, 3, 3))(pooling_layer3)\n",
    "    conv_layer4 = BatchNormalization()(conv_layer4)\n",
    "    conv_layer4 = Activation('relu')(conv_layer4)\n",
    "    pooling_layer4 = MaxPool3D(pool_size=(2, 2, 2))(conv_layer4)\n",
    "\n",
    "    flatten_layer = Flatten()(pooling_layer3)\n",
    "\n",
    "    dense_layer1 = Dense(units=1024, activation='relu')(flatten_layer)\n",
    "    dense_layer1 = Dropout(0.6)(dense_layer1)\n",
    "    dense_layer2 = Dense(units=256, activation='relu')(dense_layer1)\n",
    "    dense_layer2 = Dropout(0.6)(dense_layer2)\n",
    "    output_layer = Dense(units=1, activation='linear')(dense_layer2)\n",
    "\n",
    "    return Model(inputs=input_layer, outputs=output_layer)"
   ]
  },
  {
   "cell_type": "code",
   "execution_count": 5,
   "metadata": {},
   "outputs": [],
   "source": [
    "class DataGen:\n",
    "    \n",
    "    def __init__(self, csv,  directory):\n",
    "        df = pd.read_csv(csv)\n",
    "        self.dir = directory\n",
    "        self.filename = np.array(df['file'])\n",
    "        self.age      = np.array(df['age'])\n",
    "        self.gender   = np.array(df['gender'])=='f'\n",
    "        \n",
    "        one_brain = np.array(nib.load( os.path.join(self.dir, self.filename[0]) ).get_data())\n",
    "        self.shape = one_brain.shape\n",
    "        self.dtype = one_brain.dtype\n",
    "        self.total_samples = len(self.filename)\n",
    "        \n",
    "        self.next_index = 0\n",
    "        self.init()\n",
    "        \n",
    "        \n",
    "    def init(self):\n",
    "        rand_indicies = np.random.permutation(np.arange(len(self.filename)))\n",
    "        self.filename = self.filename[rand_indicies]\n",
    "        self.age = self.age[rand_indicies]\n",
    "        self.gender = self.gender[rand_indicies]\n",
    "        self.next_index = 0\n",
    "        \n",
    "    def samples_left(self):\n",
    "        return self.total_samples - self.next_index\n",
    "        \n",
    "    def getBatch(self, n_samples):\n",
    "        n_samples_left = self.samples_left()\n",
    "        assert n_samples_left>0, \"No samples left, call dataGen.init()\"\n",
    "        \n",
    "        n_samples = n_samples if n_samples_left>n_samples else n_samples_left\n",
    "        data = np.empty((n_samples,)+self.shape+(1,), self.dtype)\n",
    "        label = np.empty(n_samples, self.dtype)\n",
    "        # should spawn a thread to load data\n",
    "        for i in range(n_samples):\n",
    "            data[i,:,:,:,0] = np.array(nib.load(os.path.join(self.dir, self.filename[self.next_index])).get_data())\n",
    "            label[i] = self.age[self.next_index]\n",
    "            self.next_index = self.next_index+1\n",
    "        \n",
    "        return data, label\n",
    "            "
   ]
  },
  {
   "cell_type": "code",
   "execution_count": 6,
   "metadata": {},
   "outputs": [
    {
     "data": {
      "text/plain": [
       "'\\ndf = pd.read_csv(\\'IXI_labels.csv\\')\\ndf_train = df.iloc[:450, :]\\ndf_val = df.iloc[450:500, :]\\ndf_test = df.iloc[500:, :]\\n\\nprint(len(df_train), len(df_val), len(df_test))\\ndf_train.to_csv(\"IXI_train.csv\", sep=\\',\\')\\ndf_val.to_csv(\"IXI_val.csv\", sep=\\',\\')\\ndf_test.to_csv(\"IXI_test.csv\", sep=\\',\\')\\n'"
      ]
     },
     "execution_count": 6,
     "metadata": {},
     "output_type": "execute_result"
    }
   ],
   "source": [
    "# split data\n",
    "'''\n",
    "df = pd.read_csv('IXI_labels.csv')\n",
    "df_train = df.iloc[:450, :]\n",
    "df_val = df.iloc[450:500, :]\n",
    "df_test = df.iloc[500:, :]\n",
    "\n",
    "print(len(df_train), len(df_val), len(df_test))\n",
    "df_train.to_csv(\"IXI_train.csv\", sep=',')\n",
    "df_val.to_csv(\"IXI_val.csv\", sep=',')\n",
    "df_test.to_csv(\"IXI_test.csv\", sep=',')\n",
    "'''"
   ]
  },
  {
   "cell_type": "code",
   "execution_count": 7,
   "metadata": {},
   "outputs": [],
   "source": [
    "dg = DataGen('IXI_train.csv', './IXI_brain')\n",
    "dg_val = DataGen('IXI_train.csv', './IXI_brain')"
   ]
  },
  {
   "cell_type": "code",
   "execution_count": 8,
   "metadata": {},
   "outputs": [
    {
     "data": {
      "text/plain": [
       "450"
      ]
     },
     "execution_count": 8,
     "metadata": {},
     "output_type": "execute_result"
    }
   ],
   "source": [
    "dg.samples_left()"
   ]
  },
  {
   "cell_type": "code",
   "execution_count": 9,
   "metadata": {},
   "outputs": [],
   "source": [
    "X,y = dg.getBatch(1)"
   ]
  },
  {
   "cell_type": "code",
   "execution_count": 10,
   "metadata": {},
   "outputs": [
    {
     "data": {
      "image/png": "[encoded data removed]",
      "text/plain": [
       "<Figure size 432x288 with 1 Axes>"
      ]
     },
     "metadata": {},
     "output_type": "display_data"
    }
   ],
   "source": [
    "import matplotlib.pyplot as plt\n",
    "%matplotlib inline\n",
    "plt.imshow(np.take(X[0,:,:,:,0], 100, 0))\n",
    "plt.show()"
   ]
  },
  {
   "cell_type": "code",
   "execution_count": null,
   "metadata": {},
   "outputs": [],
   "source": [
    "model = Conv3D_model(dg.shape+(1,))\n",
    "batch_size = 1\n",
    "epochs = 10\n",
    "model.compile(loss=mse, optimizer=Adadelta(lr=0.01), metrics=['mae'])\n",
    "\n",
    "v_mse_hist = []\n",
    "v_loss_hist = []\n",
    "t_mse_hist = []\n",
    "t_loss_hist = []\n",
    "\n",
    "from IPython.display import clear_output"
   ]
  },
  {
   "cell_type": "code",
   "execution_count": null,
   "metadata": {},
   "outputs": [],
   "source": [
    "for i in range(epochs):\n",
    "    dg.init()\n",
    "    print(\"epoch\", i)\n",
    "    while(dg.samples_left()>0):\n",
    "        X,y = dg.getBatch(batch_size)\n",
    "        model.fit(x=X, y=y, verbose=0)\n",
    "    dg.getBatch(batch_size)\n",
    "    dg.init()\n",
    "    X,y = dg.getBatch(50)\n",
    "    loss, mse_val = evaluate(x=X, y=y, batch_size=1, verbose=1)\n",
    "    t_loss_hist.append(loss)\n",
    "    plt.plot(t_loss_hist)"
   ]
  },
  {
   "cell_type": "code",
   "execution_count": null,
   "metadata": {},
   "outputs": [],
   "source": []
  },
  {
   "cell_type": "code",
   "execution_count": null,
   "metadata": {},
   "outputs": [],
   "source": [
    "#y_pred = model.predict(X, batch_size=1)"
   ]
  },
  {
   "cell_type": "code",
   "execution_count": null,
   "metadata": {},
   "outputs": [],
   "source": []
  },
  {
   "cell_type": "code",
   "execution_count": null,
   "metadata": {},
   "outputs": [],
   "source": []
  },
  {
   "cell_type": "code",
   "execution_count": null,
   "metadata": {},
   "outputs": [],
   "source": []
  }
 ],
 "metadata": {
  "kernelspec": {
   "display_name": "Python 3",
   "language": "python",
   "name": "python3"
  },
  "language_info": {
   "codemirror_mode": {
    "name": "ipython",
    "version": 3
   },
   "file_extension": ".py",
   "mimetype": "text/x-python",
   "name": "python",
   "nbconvert_exporter": "python",
   "pygments_lexer": "ipython3",
   "version": "3.6.7"
  }
 },
 "nbformat": 4,
 "nbformat_minor": 2
}
