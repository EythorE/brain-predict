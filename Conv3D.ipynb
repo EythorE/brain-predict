{
 "cells": [
  {
   "cell_type": "code",
   "execution_count": 1,
   "metadata": {},
   "outputs": [
    {
     "name": "stderr",
     "output_type": "stream",
     "text": [
      "Using TensorFlow backend.\n"
     ]
    }
   ],
   "source": [
    "import keras\n",
    "import numpy as np\n",
    "\n",
    "from keras.layers import Conv3D, MaxPool3D, Flatten, Dense, Activation\n",
    "from keras.layers import Dropout, Input, BatchNormalization\n",
    "from sklearn.metrics import mean_squared_error\n",
    "from keras.losses import mse\n",
    "from keras.optimizers import Adadelta\n",
    "from keras.models import Model"
   ]
  },
  {
   "cell_type": "code",
   "execution_count": 2,
   "metadata": {},
   "outputs": [],
   "source": [
    "## extra imports to set GPU options\n",
    "import tensorflow as tf\n",
    "from keras import backend as k\n",
    " \n",
    "###################################\n",
    "# TensorFlow wizardry\n",
    "config = tf.ConfigProto()\n",
    " \n",
    "# Don't pre-allocate memory; allocate as-needed\n",
    "config.gpu_options.allow_growth = True\n",
    " \n",
    "# Create a session with the above options specified.\n",
    "k.tensorflow_backend.set_session(tf.Session(config=config))\n",
    "###################################\n",
    "\n",
    "## seed\n",
    "np.random.seed(1)\n",
    "tf.set_random_seed(2)"
   ]
  },
  {
   "cell_type": "code",
   "execution_count": 3,
   "metadata": {},
   "outputs": [],
   "source": [
    "X = np.load('IXI_cleaned_train/subject_brains.npy')\n",
    "y = np.load('IXI_cleaned_train/subject_age.npy')"
   ]
  },
  {
   "cell_type": "code",
   "execution_count": 4,
   "metadata": {},
   "outputs": [
    {
     "name": "stdout",
     "output_type": "stream",
     "text": [
      "(500, 157, 206, 217)\n",
      "(500,)\n"
     ]
    }
   ],
   "source": [
    "X.dtype\n",
    "print(X.shape)\n",
    "print(y.shape)"
   ]
  },
  {
   "cell_type": "code",
   "execution_count": 5,
   "metadata": {},
   "outputs": [
    {
     "data": {
      "text/plain": [
       "(500, 157, 206, 217, 1)"
      ]
     },
     "execution_count": 5,
     "metadata": {},
     "output_type": "execute_result"
    }
   ],
   "source": [
    "X = np.expand_dims(X, axis=-1) # 1 channel and normalize\n",
    "X.shape"
   ]
  },
  {
   "cell_type": "code",
   "execution_count": 6,
   "metadata": {},
   "outputs": [
    {
     "data": {
      "text/plain": [
       "<Figure size 640x480 with 1 Axes>"
      ]
     },
     "metadata": {},
     "output_type": "display_data"
    }
   ],
   "source": [
    "import matplotlib.pyplot as plt\n",
    "plt.imshow(np.take(X[0,:,:,:,0], 100, 0))\n",
    "plt.show()"
   ]
  },
  {
   "cell_type": "code",
   "execution_count": 7,
   "metadata": {},
   "outputs": [],
   "source": [
    "input_layer = Input(X.shape[1:])\n",
    "\n",
    "conv_layer1 = Conv3D(filters=1, kernel_size=(3, 3, 3))(input_layer)\n",
    "conv_layer1 = BatchNormalization()(conv_layer1)\n",
    "conv_layer1 = Activation('relu')(conv_layer1)\n",
    "pooling_layer1 = MaxPool3D(pool_size=(2, 2, 2))(conv_layer1)\n",
    "\n",
    "conv_layer2 = Conv3D(filters=1, kernel_size=(3, 3, 3))(pooling_layer1)\n",
    "conv_layer2 = BatchNormalization()(conv_layer2)\n",
    "conv_layer2 = Activation('relu')(conv_layer2)\n",
    "pooling_layer2 = MaxPool3D(pool_size=(2, 2, 2))(conv_layer2)\n",
    "\n",
    "conv_layer3 = Conv3D(filters=16, kernel_size=(3, 3, 3))(pooling_layer2)\n",
    "conv_layer3 = BatchNormalization()(conv_layer3)\n",
    "conv_layer3 = Activation('relu')(conv_layer3)\n",
    "pooling_layer3 = MaxPool3D(pool_size=(2, 2, 2))(conv_layer3)\n",
    "\n",
    "conv_layer4 = Conv3D(filters=32, kernel_size=(3, 3, 3))(pooling_layer3)\n",
    "conv_layer4 = BatchNormalization()(conv_layer4)\n",
    "conv_layer4 = Activation('relu')(conv_layer4)\n",
    "pooling_layer4 = MaxPool3D(pool_size=(2, 2, 2))(conv_layer4)\n",
    "\n",
    "flatten_layer = Flatten()(pooling_layer3)\n",
    "\n",
    "dense_layer1 = Dense(units=1024, activation='relu')(flatten_layer)\n",
    "dense_layer1 = Dropout(0.6)(dense_layer1)\n",
    "dense_layer2 = Dense(units=256, activation='relu')(dense_layer1)\n",
    "dense_layer2 = Dropout(0.6)(dense_layer2)\n",
    "output_layer = Dense(units=1, activation='linear')(dense_layer2)\n",
    "\n",
    "model = Model(inputs=input_layer, outputs=output_layer)"
   ]
  },
  {
   "cell_type": "code",
   "execution_count": 8,
   "metadata": {},
   "outputs": [
    {
     "name": "stdout",
     "output_type": "stream",
     "text": [
      "Train on 450 samples, validate on 50 samples\n",
      "Epoch 1/200\n",
      "450/450 [==============================] - 43s 96ms/step - loss: 467.9439 - mean_absolute_error: 17.2104 - val_loss: 195.2079 - val_mean_absolute_error: 11.6481\n",
      "Epoch 2/200\n",
      "450/450 [==============================] - 29s 63ms/step - loss: 394.8162 - mean_absolute_error: 16.2754 - val_loss: 137.0254 - val_mean_absolute_error: 9.5952\n",
      "Epoch 3/200\n",
      "450/450 [==============================] - 29s 63ms/step - loss: 346.1054 - mean_absolute_error: 14.9329 - val_loss: 136.4910 - val_mean_absolute_error: 9.6667\n",
      "Epoch 4/200\n",
      "450/450 [==============================] - 29s 64ms/step - loss: 320.2385 - mean_absolute_error: 14.2991 - val_loss: 132.6066 - val_mean_absolute_error: 9.5642\n",
      "Epoch 5/200\n",
      "450/450 [==============================] - 29s 64ms/step - loss: 302.9000 - mean_absolute_error: 13.9006 - val_loss: 131.4577 - val_mean_absolute_error: 9.5622\n",
      "Epoch 6/200\n",
      "450/450 [==============================] - 29s 64ms/step - loss: 306.4605 - mean_absolute_error: 13.9056 - val_loss: 122.0439 - val_mean_absolute_error: 9.2638\n",
      "Epoch 7/200\n",
      "450/450 [==============================] - 29s 64ms/step - loss: 299.4986 - mean_absolute_error: 13.7317 - val_loss: 126.5873 - val_mean_absolute_error: 9.5471\n",
      "Epoch 8/200\n",
      "450/450 [==============================] - 29s 64ms/step - loss: 302.6465 - mean_absolute_error: 14.0517 - val_loss: 125.2593 - val_mean_absolute_error: 9.2371\n",
      "Epoch 9/200\n",
      "450/450 [==============================] - 29s 64ms/step - loss: 292.4648 - mean_absolute_error: 13.6518 - val_loss: 148.0310 - val_mean_absolute_error: 10.1260\n",
      "Epoch 10/200\n",
      "450/450 [==============================] - 29s 64ms/step - loss: 269.3945 - mean_absolute_error: 13.1103 - val_loss: 121.4578 - val_mean_absolute_error: 9.1740\n",
      "Epoch 11/200\n",
      "450/450 [==============================] - 29s 63ms/step - loss: 271.3299 - mean_absolute_error: 12.8257 - val_loss: 115.1283 - val_mean_absolute_error: 9.0849\n",
      "Epoch 12/200\n",
      "450/450 [==============================] - 29s 63ms/step - loss: 263.0804 - mean_absolute_error: 12.8591 - val_loss: 114.5477 - val_mean_absolute_error: 9.0276\n",
      "Epoch 13/200\n",
      "450/450 [==============================] - 29s 64ms/step - loss: 267.4854 - mean_absolute_error: 12.6998 - val_loss: 113.2813 - val_mean_absolute_error: 9.0311\n",
      "Epoch 14/200\n",
      "450/450 [==============================] - 29s 64ms/step - loss: 276.6166 - mean_absolute_error: 13.1693 - val_loss: 113.8352 - val_mean_absolute_error: 9.0331\n",
      "Epoch 15/200\n",
      "450/450 [==============================] - 29s 64ms/step - loss: 227.8960 - mean_absolute_error: 11.8832 - val_loss: 113.4334 - val_mean_absolute_error: 9.1178\n",
      "Epoch 16/200\n",
      "450/450 [==============================] - 29s 64ms/step - loss: 266.2438 - mean_absolute_error: 12.9234 - val_loss: 113.7150 - val_mean_absolute_error: 8.9759\n",
      "Epoch 17/200\n",
      "450/450 [==============================] - 29s 64ms/step - loss: 251.6684 - mean_absolute_error: 12.7473 - val_loss: 117.9578 - val_mean_absolute_error: 9.2591\n",
      "Epoch 18/200\n",
      "450/450 [==============================] - 29s 64ms/step - loss: 243.1030 - mean_absolute_error: 12.3266 - val_loss: 117.4018 - val_mean_absolute_error: 9.1372\n",
      "Epoch 19/200\n",
      "450/450 [==============================] - 29s 64ms/step - loss: 202.5084 - mean_absolute_error: 11.0412 - val_loss: 112.7193 - val_mean_absolute_error: 9.0388\n",
      "Epoch 20/200\n",
      "450/450 [==============================] - 29s 64ms/step - loss: 251.3932 - mean_absolute_error: 12.3924 - val_loss: 115.7110 - val_mean_absolute_error: 9.2141\n",
      "Epoch 21/200\n",
      "450/450 [==============================] - 29s 64ms/step - loss: 216.6038 - mean_absolute_error: 11.6976 - val_loss: 112.9542 - val_mean_absolute_error: 9.1488\n",
      "Epoch 22/200\n",
      "450/450 [==============================] - 29s 64ms/step - loss: 215.2360 - mean_absolute_error: 11.5350 - val_loss: 133.6525 - val_mean_absolute_error: 9.4249\n",
      "Epoch 23/200\n",
      "450/450 [==============================] - 29s 64ms/step - loss: 203.5290 - mean_absolute_error: 11.1707 - val_loss: 106.2545 - val_mean_absolute_error: 8.7451\n",
      "Epoch 24/200\n",
      "450/450 [==============================] - 29s 64ms/step - loss: 217.6998 - mean_absolute_error: 11.5094 - val_loss: 106.3799 - val_mean_absolute_error: 8.7652\n",
      "Epoch 25/200\n",
      "450/450 [==============================] - 29s 64ms/step - loss: 219.6925 - mean_absolute_error: 11.8503 - val_loss: 108.9326 - val_mean_absolute_error: 9.0808\n",
      "Epoch 26/200\n",
      "450/450 [==============================] - 29s 64ms/step - loss: 193.1290 - mean_absolute_error: 11.0766 - val_loss: 117.1254 - val_mean_absolute_error: 9.0500\n",
      "Epoch 27/200\n",
      "450/450 [==============================] - 29s 64ms/step - loss: 217.9213 - mean_absolute_error: 11.7848 - val_loss: 109.6181 - val_mean_absolute_error: 9.0396\n",
      "Epoch 28/200\n",
      "450/450 [==============================] - 29s 63ms/step - loss: 174.7858 - mean_absolute_error: 10.4846 - val_loss: 112.7682 - val_mean_absolute_error: 9.0007\n",
      "Epoch 29/200\n",
      "450/450 [==============================] - 29s 64ms/step - loss: 199.2939 - mean_absolute_error: 11.0505 - val_loss: 108.8887 - val_mean_absolute_error: 8.9304\n",
      "Epoch 30/200\n",
      "450/450 [==============================] - 29s 64ms/step - loss: 184.4441 - mean_absolute_error: 10.7263 - val_loss: 133.2500 - val_mean_absolute_error: 9.6571\n",
      "Epoch 31/200\n",
      "450/450 [==============================] - 29s 64ms/step - loss: 200.9187 - mean_absolute_error: 11.2487 - val_loss: 115.8339 - val_mean_absolute_error: 9.0693\n",
      "Epoch 32/200\n",
      "450/450 [==============================] - 28s 62ms/step - loss: 181.9414 - mean_absolute_error: 10.8116 - val_loss: 124.5868 - val_mean_absolute_error: 9.4580\n",
      "Epoch 33/200\n",
      "450/450 [==============================] - 27s 61ms/step - loss: 169.3889 - mean_absolute_error: 10.3669 - val_loss: 113.0584 - val_mean_absolute_error: 9.1381\n",
      "Epoch 34/200\n",
      "450/450 [==============================] - 27s 61ms/step - loss: 196.7202 - mean_absolute_error: 11.0889 - val_loss: 134.8150 - val_mean_absolute_error: 9.6321\n",
      "Epoch 35/200\n",
      "450/450 [==============================] - 27s 61ms/step - loss: 163.8591 - mean_absolute_error: 9.7761 - val_loss: 118.6198 - val_mean_absolute_error: 9.2580\n",
      "Epoch 36/200\n",
      "450/450 [==============================] - 27s 61ms/step - loss: 176.6100 - mean_absolute_error: 10.2877 - val_loss: 111.8234 - val_mean_absolute_error: 8.9404\n",
      "Epoch 37/200\n",
      "450/450 [==============================] - 27s 61ms/step - loss: 169.8396 - mean_absolute_error: 9.9610 - val_loss: 116.5702 - val_mean_absolute_error: 9.1639\n",
      "Epoch 38/200\n",
      "450/450 [==============================] - 27s 61ms/step - loss: 160.0988 - mean_absolute_error: 9.9960 - val_loss: 109.3518 - val_mean_absolute_error: 8.8765\n",
      "Epoch 39/200\n",
      "450/450 [==============================] - 27s 61ms/step - loss: 171.9147 - mean_absolute_error: 10.2377 - val_loss: 112.0533 - val_mean_absolute_error: 8.8972\n",
      "Epoch 40/200\n",
      "450/450 [==============================] - 27s 61ms/step - loss: 170.0753 - mean_absolute_error: 10.1133 - val_loss: 108.7849 - val_mean_absolute_error: 8.8522\n",
      "Epoch 41/200\n",
      "450/450 [==============================] - 28s 61ms/step - loss: 169.4563 - mean_absolute_error: 10.1949 - val_loss: 107.6002 - val_mean_absolute_error: 8.8279\n",
      "Epoch 42/200\n",
      "450/450 [==============================] - 27s 61ms/step - loss: 175.7025 - mean_absolute_error: 10.3359 - val_loss: 115.0020 - val_mean_absolute_error: 9.2626\n",
      "Epoch 43/200\n",
      "450/450 [==============================] - 27s 61ms/step - loss: 162.1447 - mean_absolute_error: 9.9395 - val_loss: 108.4283 - val_mean_absolute_error: 8.8324\n",
      "Epoch 44/200\n",
      "450/450 [==============================] - 27s 61ms/step - loss: 162.1910 - mean_absolute_error: 10.0145 - val_loss: 107.4113 - val_mean_absolute_error: 8.8362\n",
      "Epoch 45/200\n",
      "450/450 [==============================] - 28s 61ms/step - loss: 169.6698 - mean_absolute_error: 10.1224 - val_loss: 108.5804 - val_mean_absolute_error: 8.9231\n",
      "Epoch 46/200\n",
      "450/450 [==============================] - 27s 61ms/step - loss: 149.7725 - mean_absolute_error: 9.3568 - val_loss: 112.0428 - val_mean_absolute_error: 9.0317\n",
      "Epoch 47/200\n",
      "450/450 [==============================] - 28s 61ms/step - loss: 153.9556 - mean_absolute_error: 9.7694 - val_loss: 107.7641 - val_mean_absolute_error: 8.7969\n",
      "Epoch 48/200\n",
      "450/450 [==============================] - 27s 61ms/step - loss: 161.4079 - mean_absolute_error: 9.8269 - val_loss: 109.0394 - val_mean_absolute_error: 8.9134\n",
      "Epoch 49/200\n",
      "450/450 [==============================] - 27s 61ms/step - loss: 165.6198 - mean_absolute_error: 10.1468 - val_loss: 109.1238 - val_mean_absolute_error: 8.7887\n",
      "Epoch 50/200\n",
      "450/450 [==============================] - 27s 61ms/step - loss: 155.1462 - mean_absolute_error: 9.5216 - val_loss: 108.7545 - val_mean_absolute_error: 8.8871\n",
      "Epoch 51/200\n",
      "450/450 [==============================] - 28s 61ms/step - loss: 144.4966 - mean_absolute_error: 9.2339 - val_loss: 128.8916 - val_mean_absolute_error: 9.3647\n",
      "Epoch 52/200\n",
      "450/450 [==============================] - 28s 61ms/step - loss: 151.2873 - mean_absolute_error: 9.5025 - val_loss: 105.6896 - val_mean_absolute_error: 8.6681\n",
      "Epoch 53/200\n",
      "450/450 [==============================] - 28s 61ms/step - loss: 134.9886 - mean_absolute_error: 8.9723 - val_loss: 123.0064 - val_mean_absolute_error: 9.2694\n",
      "Epoch 54/200\n",
      "450/450 [==============================] - 27s 61ms/step - loss: 159.6585 - mean_absolute_error: 9.8882 - val_loss: 118.5268 - val_mean_absolute_error: 9.2744\n",
      "Epoch 55/200\n",
      "450/450 [==============================] - 28s 61ms/step - loss: 156.2599 - mean_absolute_error: 9.6565 - val_loss: 112.6397 - val_mean_absolute_error: 8.8969\n",
      "Epoch 56/200\n",
      "450/450 [==============================] - 28s 61ms/step - loss: 146.2107 - mean_absolute_error: 9.4941 - val_loss: 114.9605 - val_mean_absolute_error: 9.1237\n",
      "Epoch 57/200\n",
      "450/450 [==============================] - 28s 61ms/step - loss: 138.5491 - mean_absolute_error: 9.4493 - val_loss: 113.2970 - val_mean_absolute_error: 9.0855\n",
      "Epoch 58/200\n",
      "450/450 [==============================] - 28s 61ms/step - loss: 152.2324 - mean_absolute_error: 9.7851 - val_loss: 108.5274 - val_mean_absolute_error: 8.9270\n",
      "Epoch 59/200\n",
      "450/450 [==============================] - 28s 61ms/step - loss: 141.9330 - mean_absolute_error: 9.4359 - val_loss: 108.6697 - val_mean_absolute_error: 8.9726\n",
      "Epoch 60/200\n",
      "450/450 [==============================] - 28s 61ms/step - loss: 147.7782 - mean_absolute_error: 9.5266 - val_loss: 107.5141 - val_mean_absolute_error: 8.8119\n",
      "Epoch 61/200\n",
      "450/450 [==============================] - 28s 61ms/step - loss: 129.0346 - mean_absolute_error: 8.9538 - val_loss: 127.4686 - val_mean_absolute_error: 9.2600\n",
      "Epoch 62/200\n",
      "450/450 [==============================] - 28s 61ms/step - loss: 128.1985 - mean_absolute_error: 8.7038 - val_loss: 104.9574 - val_mean_absolute_error: 8.4895\n",
      "Epoch 63/200\n",
      "450/450 [==============================] - 27s 61ms/step - loss: 125.3512 - mean_absolute_error: 8.8539 - val_loss: 105.4209 - val_mean_absolute_error: 8.4875\n",
      "Epoch 64/200\n",
      "450/450 [==============================] - 28s 61ms/step - loss: 131.9565 - mean_absolute_error: 8.8687 - val_loss: 114.9621 - val_mean_absolute_error: 8.9463\n",
      "Epoch 65/200\n",
      "450/450 [==============================] - 28s 61ms/step - loss: 137.1744 - mean_absolute_error: 9.0815 - val_loss: 104.9550 - val_mean_absolute_error: 8.7756\n",
      "Epoch 66/200\n",
      "450/450 [==============================] - 28s 62ms/step - loss: 141.6866 - mean_absolute_error: 9.4193 - val_loss: 152.8315 - val_mean_absolute_error: 10.0217\n",
      "Epoch 67/200\n",
      "450/450 [==============================] - 28s 61ms/step - loss: 133.2590 - mean_absolute_error: 9.1295 - val_loss: 136.3839 - val_mean_absolute_error: 9.5800\n",
      "Epoch 68/200\n",
      "450/450 [==============================] - 28s 61ms/step - loss: 136.9064 - mean_absolute_error: 9.1111 - val_loss: 111.8572 - val_mean_absolute_error: 8.9051\n",
      "Epoch 69/200\n",
      "450/450 [==============================] - 28s 61ms/step - loss: 137.8037 - mean_absolute_error: 9.3837 - val_loss: 106.7078 - val_mean_absolute_error: 8.6936\n",
      "Epoch 70/200\n",
      "450/450 [==============================] - 28s 61ms/step - loss: 123.3394 - mean_absolute_error: 8.9128 - val_loss: 112.1256 - val_mean_absolute_error: 9.0433\n",
      "Epoch 71/200\n",
      "450/450 [==============================] - 27s 61ms/step - loss: 143.1610 - mean_absolute_error: 9.0766 - val_loss: 110.2363 - val_mean_absolute_error: 8.9576\n",
      "Epoch 72/200\n",
      "450/450 [==============================] - 27s 61ms/step - loss: 152.7005 - mean_absolute_error: 9.5966 - val_loss: 142.2731 - val_mean_absolute_error: 9.7994\n",
      "Epoch 73/200\n",
      "450/450 [==============================] - 27s 61ms/step - loss: 146.7534 - mean_absolute_error: 9.2117 - val_loss: 118.6513 - val_mean_absolute_error: 9.1708\n",
      "Epoch 74/200\n",
      "450/450 [==============================] - 27s 61ms/step - loss: 128.8709 - mean_absolute_error: 8.8489 - val_loss: 111.5880 - val_mean_absolute_error: 8.9767\n",
      "Epoch 75/200\n",
      "450/450 [==============================] - 27s 61ms/step - loss: 113.7213 - mean_absolute_error: 8.2450 - val_loss: 118.8832 - val_mean_absolute_error: 9.3835\n",
      "Epoch 76/200\n",
      "450/450 [==============================] - 27s 61ms/step - loss: 121.9777 - mean_absolute_error: 8.5530 - val_loss: 127.0534 - val_mean_absolute_error: 9.5980\n",
      "Epoch 77/200\n",
      "450/450 [==============================] - 27s 61ms/step - loss: 141.5018 - mean_absolute_error: 9.1813 - val_loss: 130.1585 - val_mean_absolute_error: 9.5243\n",
      "Epoch 78/200\n",
      "450/450 [==============================] - 27s 61ms/step - loss: 142.8579 - mean_absolute_error: 9.2807 - val_loss: 113.0676 - val_mean_absolute_error: 9.1801\n",
      "Epoch 79/200\n",
      "450/450 [==============================] - 27s 61ms/step - loss: 125.6184 - mean_absolute_error: 8.5578 - val_loss: 118.0617 - val_mean_absolute_error: 9.3567\n",
      "Epoch 80/200\n",
      "450/450 [==============================] - 27s 61ms/step - loss: 122.1528 - mean_absolute_error: 8.5307 - val_loss: 100.8367 - val_mean_absolute_error: 8.6675\n",
      "Epoch 81/200\n",
      "450/450 [==============================] - 27s 61ms/step - loss: 125.8573 - mean_absolute_error: 8.7226 - val_loss: 100.9097 - val_mean_absolute_error: 8.7388\n",
      "Epoch 82/200\n",
      "450/450 [==============================] - 27s 61ms/step - loss: 128.9970 - mean_absolute_error: 8.6744 - val_loss: 128.0337 - val_mean_absolute_error: 9.0020\n",
      "Epoch 83/200\n",
      "450/450 [==============================] - 27s 61ms/step - loss: 121.5144 - mean_absolute_error: 8.8345 - val_loss: 113.6896 - val_mean_absolute_error: 8.7604\n",
      "Epoch 84/200\n",
      "450/450 [==============================] - 27s 61ms/step - loss: 120.8447 - mean_absolute_error: 8.4584 - val_loss: 127.6218 - val_mean_absolute_error: 9.2906\n",
      "Epoch 85/200\n",
      "450/450 [==============================] - 27s 61ms/step - loss: 140.0099 - mean_absolute_error: 9.1807 - val_loss: 144.0597 - val_mean_absolute_error: 9.8745\n",
      "Epoch 86/200\n",
      "450/450 [==============================] - 27s 61ms/step - loss: 136.2021 - mean_absolute_error: 9.1089 - val_loss: 108.8285 - val_mean_absolute_error: 9.0950\n",
      "Epoch 87/200\n",
      "450/450 [==============================] - 27s 61ms/step - loss: 139.2848 - mean_absolute_error: 8.9951 - val_loss: 105.2474 - val_mean_absolute_error: 8.7525\n",
      "Epoch 88/200\n",
      "450/450 [==============================] - 27s 61ms/step - loss: 133.4729 - mean_absolute_error: 8.8204 - val_loss: 109.6188 - val_mean_absolute_error: 8.8109\n",
      "Epoch 89/200\n",
      "450/450 [==============================] - 27s 61ms/step - loss: 138.1384 - mean_absolute_error: 9.2798 - val_loss: 100.3838 - val_mean_absolute_error: 8.6788\n",
      "Epoch 90/200\n",
      "450/450 [==============================] - 27s 61ms/step - loss: 121.4971 - mean_absolute_error: 8.3850 - val_loss: 105.4210 - val_mean_absolute_error: 8.7410\n",
      "Epoch 91/200\n",
      "450/450 [==============================] - 27s 61ms/step - loss: 130.3581 - mean_absolute_error: 8.6466 - val_loss: 114.3936 - val_mean_absolute_error: 8.8524\n",
      "Epoch 92/200\n",
      "450/450 [==============================] - 27s 61ms/step - loss: 112.8186 - mean_absolute_error: 8.1860 - val_loss: 98.9495 - val_mean_absolute_error: 8.5905\n",
      "Epoch 93/200\n",
      "450/450 [==============================] - 27s 61ms/step - loss: 130.8919 - mean_absolute_error: 9.0272 - val_loss: 106.4380 - val_mean_absolute_error: 8.7620\n",
      "Epoch 94/200\n",
      "450/450 [==============================] - 27s 61ms/step - loss: 121.9201 - mean_absolute_error: 8.7573 - val_loss: 120.5330 - val_mean_absolute_error: 9.1326\n",
      "Epoch 95/200\n",
      "450/450 [==============================] - 27s 61ms/step - loss: 138.4797 - mean_absolute_error: 9.2006 - val_loss: 102.0254 - val_mean_absolute_error: 8.6906\n"
     ]
    },
    {
     "name": "stdout",
     "output_type": "stream",
     "text": [
      "Epoch 96/200\n",
      "450/450 [==============================] - 27s 61ms/step - loss: 126.0309 - mean_absolute_error: 8.6644 - val_loss: 126.2730 - val_mean_absolute_error: 9.1705\n",
      "Epoch 97/200\n",
      "450/450 [==============================] - 27s 61ms/step - loss: 121.5033 - mean_absolute_error: 8.4314 - val_loss: 102.5115 - val_mean_absolute_error: 8.5611\n",
      "Epoch 98/200\n",
      "450/450 [==============================] - 27s 61ms/step - loss: 126.3692 - mean_absolute_error: 8.8489 - val_loss: 125.9876 - val_mean_absolute_error: 9.1373\n",
      "Epoch 99/200\n",
      "450/450 [==============================] - 27s 61ms/step - loss: 121.1746 - mean_absolute_error: 8.4335 - val_loss: 111.3886 - val_mean_absolute_error: 8.7448\n",
      "Epoch 100/200\n",
      "450/450 [==============================] - 27s 61ms/step - loss: 125.4993 - mean_absolute_error: 8.6269 - val_loss: 115.7311 - val_mean_absolute_error: 8.9754\n",
      "Epoch 101/200\n",
      "450/450 [==============================] - 27s 61ms/step - loss: 127.3686 - mean_absolute_error: 8.8821 - val_loss: 168.7134 - val_mean_absolute_error: 10.4353\n",
      "Epoch 102/200\n",
      "450/450 [==============================] - 27s 61ms/step - loss: 123.0832 - mean_absolute_error: 8.7521 - val_loss: 148.1042 - val_mean_absolute_error: 9.9196\n",
      "Epoch 103/200\n",
      "450/450 [==============================] - 27s 60ms/step - loss: 116.2281 - mean_absolute_error: 8.2949 - val_loss: 109.5940 - val_mean_absolute_error: 9.0196\n",
      "Epoch 104/200\n",
      "450/450 [==============================] - 27s 61ms/step - loss: 125.6966 - mean_absolute_error: 8.6336 - val_loss: 113.8799 - val_mean_absolute_error: 9.1936\n",
      "Epoch 105/200\n",
      "450/450 [==============================] - 27s 61ms/step - loss: 125.4291 - mean_absolute_error: 8.5677 - val_loss: 105.7781 - val_mean_absolute_error: 8.8698\n",
      "Epoch 106/200\n",
      "450/450 [==============================] - 27s 61ms/step - loss: 121.1864 - mean_absolute_error: 8.6162 - val_loss: 106.0288 - val_mean_absolute_error: 8.8399\n",
      "Epoch 107/200\n",
      "450/450 [==============================] - 27s 61ms/step - loss: 122.5634 - mean_absolute_error: 8.6037 - val_loss: 142.8821 - val_mean_absolute_error: 9.7804\n",
      "Epoch 108/200\n",
      "450/450 [==============================] - 27s 61ms/step - loss: 121.5868 - mean_absolute_error: 8.6386 - val_loss: 118.4035 - val_mean_absolute_error: 9.1031\n",
      "Epoch 109/200\n",
      "450/450 [==============================] - 27s 61ms/step - loss: 113.1248 - mean_absolute_error: 8.2191 - val_loss: 107.9747 - val_mean_absolute_error: 8.8523\n",
      "Epoch 110/200\n",
      "450/450 [==============================] - 27s 61ms/step - loss: 121.2472 - mean_absolute_error: 8.4850 - val_loss: 110.4875 - val_mean_absolute_error: 8.8050\n",
      "Epoch 111/200\n",
      "450/450 [==============================] - 27s 61ms/step - loss: 116.6510 - mean_absolute_error: 8.4001 - val_loss: 110.3109 - val_mean_absolute_error: 8.7156\n",
      "Epoch 112/200\n",
      "450/450 [==============================] - 27s 61ms/step - loss: 100.8057 - mean_absolute_error: 7.7506 - val_loss: 108.2786 - val_mean_absolute_error: 8.8187\n",
      "Epoch 113/200\n",
      "450/450 [==============================] - 27s 61ms/step - loss: 118.4603 - mean_absolute_error: 8.2459 - val_loss: 101.0068 - val_mean_absolute_error: 8.3803\n",
      "Epoch 114/200\n",
      "450/450 [==============================] - 27s 61ms/step - loss: 115.2052 - mean_absolute_error: 8.4687 - val_loss: 101.3620 - val_mean_absolute_error: 8.3494\n",
      "Epoch 115/200\n",
      "450/450 [==============================] - 27s 61ms/step - loss: 100.9452 - mean_absolute_error: 7.7025 - val_loss: 122.3194 - val_mean_absolute_error: 8.9545\n",
      "Epoch 116/200\n",
      "450/450 [==============================] - 27s 61ms/step - loss: 114.9673 - mean_absolute_error: 8.3642 - val_loss: 110.4992 - val_mean_absolute_error: 8.5943\n",
      "Epoch 117/200\n",
      "450/450 [==============================] - 27s 61ms/step - loss: 119.4413 - mean_absolute_error: 8.4202 - val_loss: 111.6832 - val_mean_absolute_error: 8.9947\n",
      "Epoch 118/200\n",
      "450/450 [==============================] - 27s 61ms/step - loss: 112.6530 - mean_absolute_error: 8.2620 - val_loss: 120.6286 - val_mean_absolute_error: 9.0106\n",
      "Epoch 119/200\n",
      "450/450 [==============================] - 27s 61ms/step - loss: 107.4714 - mean_absolute_error: 8.0313 - val_loss: 127.8678 - val_mean_absolute_error: 9.1598\n",
      "Epoch 120/200\n",
      "450/450 [==============================] - 27s 61ms/step - loss: 112.2786 - mean_absolute_error: 8.2918 - val_loss: 106.3243 - val_mean_absolute_error: 8.6802\n",
      "Epoch 121/200\n",
      "450/450 [==============================] - 27s 61ms/step - loss: 109.9685 - mean_absolute_error: 8.1566 - val_loss: 138.1764 - val_mean_absolute_error: 9.5372\n",
      "Epoch 122/200\n",
      "450/450 [==============================] - 27s 61ms/step - loss: 118.0682 - mean_absolute_error: 8.3817 - val_loss: 105.1471 - val_mean_absolute_error: 8.6081\n",
      "Epoch 123/200\n",
      "450/450 [==============================] - 27s 61ms/step - loss: 112.7022 - mean_absolute_error: 8.1917 - val_loss: 107.4599 - val_mean_absolute_error: 8.4303\n",
      "Epoch 124/200\n",
      "450/450 [==============================] - 27s 61ms/step - loss: 117.8648 - mean_absolute_error: 8.3242 - val_loss: 104.0751 - val_mean_absolute_error: 8.5132\n",
      "Epoch 125/200\n",
      "450/450 [==============================] - 27s 61ms/step - loss: 98.6936 - mean_absolute_error: 7.6502 - val_loss: 106.4060 - val_mean_absolute_error: 8.6264\n",
      "Epoch 126/200\n",
      "450/450 [==============================] - 27s 61ms/step - loss: 111.1420 - mean_absolute_error: 8.2778 - val_loss: 116.1187 - val_mean_absolute_error: 8.8433\n",
      "Epoch 127/200\n",
      "450/450 [==============================] - 27s 61ms/step - loss: 103.8195 - mean_absolute_error: 7.8412 - val_loss: 110.7250 - val_mean_absolute_error: 8.8564\n",
      "Epoch 128/200\n",
      "450/450 [==============================] - 27s 61ms/step - loss: 117.0682 - mean_absolute_error: 8.3128 - val_loss: 116.7078 - val_mean_absolute_error: 9.2548\n",
      "Epoch 129/200\n",
      "450/450 [==============================] - 27s 61ms/step - loss: 124.9759 - mean_absolute_error: 8.7363 - val_loss: 117.0217 - val_mean_absolute_error: 9.1790\n",
      "Epoch 130/200\n",
      "450/450 [==============================] - 27s 61ms/step - loss: 114.4677 - mean_absolute_error: 8.3376 - val_loss: 120.6370 - val_mean_absolute_error: 9.3634\n",
      "Epoch 131/200\n",
      "450/450 [==============================] - 27s 61ms/step - loss: 104.9152 - mean_absolute_error: 8.0734 - val_loss: 109.4324 - val_mean_absolute_error: 9.0367\n",
      "Epoch 132/200\n",
      "450/450 [==============================] - 27s 61ms/step - loss: 121.5047 - mean_absolute_error: 8.4523 - val_loss: 107.1077 - val_mean_absolute_error: 8.8834\n",
      "Epoch 133/200\n",
      "450/450 [==============================] - 27s 61ms/step - loss: 107.6814 - mean_absolute_error: 8.3027 - val_loss: 126.5966 - val_mean_absolute_error: 9.3125\n",
      "Epoch 134/200\n",
      "450/450 [==============================] - 27s 61ms/step - loss: 114.8427 - mean_absolute_error: 8.2728 - val_loss: 106.2383 - val_mean_absolute_error: 8.5698\n",
      "Epoch 135/200\n",
      "450/450 [==============================] - 27s 61ms/step - loss: 105.8609 - mean_absolute_error: 7.7810 - val_loss: 116.6553 - val_mean_absolute_error: 8.9934\n",
      "Epoch 136/200\n",
      "450/450 [==============================] - 27s 61ms/step - loss: 116.0092 - mean_absolute_error: 8.4484 - val_loss: 108.8746 - val_mean_absolute_error: 8.5814\n",
      "Epoch 137/200\n",
      "450/450 [==============================] - 27s 61ms/step - loss: 103.3079 - mean_absolute_error: 7.9317 - val_loss: 102.2876 - val_mean_absolute_error: 8.5785\n",
      "Epoch 138/200\n",
      "450/450 [==============================] - 27s 61ms/step - loss: 106.7191 - mean_absolute_error: 8.1205 - val_loss: 104.1981 - val_mean_absolute_error: 8.5746\n",
      "Epoch 139/200\n",
      "450/450 [==============================] - 27s 61ms/step - loss: 116.5728 - mean_absolute_error: 8.5195 - val_loss: 101.1071 - val_mean_absolute_error: 8.7469\n",
      "Epoch 140/200\n",
      "450/450 [==============================] - 27s 61ms/step - loss: 107.4630 - mean_absolute_error: 8.0620 - val_loss: 119.9190 - val_mean_absolute_error: 8.9010\n",
      "Epoch 141/200\n",
      "450/450 [==============================] - 27s 61ms/step - loss: 115.2320 - mean_absolute_error: 8.4273 - val_loss: 107.4646 - val_mean_absolute_error: 8.6615\n",
      "Epoch 142/200\n",
      "450/450 [==============================] - 27s 61ms/step - loss: 127.7092 - mean_absolute_error: 8.6279 - val_loss: 131.8761 - val_mean_absolute_error: 9.3246\n",
      "Epoch 143/200\n",
      "450/450 [==============================] - 27s 61ms/step - loss: 116.8649 - mean_absolute_error: 8.3595 - val_loss: 112.2313 - val_mean_absolute_error: 8.6543\n",
      "Epoch 144/200\n",
      "450/450 [==============================] - 27s 61ms/step - loss: 106.6970 - mean_absolute_error: 8.0859 - val_loss: 106.7825 - val_mean_absolute_error: 8.8467\n",
      "Epoch 145/200\n",
      "450/450 [==============================] - 27s 61ms/step - loss: 113.9132 - mean_absolute_error: 8.1064 - val_loss: 108.6979 - val_mean_absolute_error: 8.8061\n",
      "Epoch 146/200\n",
      "450/450 [==============================] - 27s 61ms/step - loss: 108.9860 - mean_absolute_error: 8.0692 - val_loss: 106.2193 - val_mean_absolute_error: 8.5547\n",
      "Epoch 147/200\n",
      "450/450 [==============================] - 27s 61ms/step - loss: 131.6773 - mean_absolute_error: 8.4934 - val_loss: 105.0391 - val_mean_absolute_error: 8.7724\n",
      "Epoch 148/200\n",
      "450/450 [==============================] - 27s 61ms/step - loss: 103.1089 - mean_absolute_error: 7.9548 - val_loss: 118.8644 - val_mean_absolute_error: 8.9007\n",
      "Epoch 149/200\n",
      "450/450 [==============================] - 27s 61ms/step - loss: 119.3070 - mean_absolute_error: 8.4865 - val_loss: 149.4745 - val_mean_absolute_error: 9.7958\n",
      "Epoch 150/200\n",
      "450/450 [==============================] - 27s 61ms/step - loss: 99.9535 - mean_absolute_error: 7.5598 - val_loss: 102.8566 - val_mean_absolute_error: 8.5927\n",
      "Epoch 151/200\n",
      "450/450 [==============================] - 28s 61ms/step - loss: 106.5579 - mean_absolute_error: 7.8966 - val_loss: 130.7543 - val_mean_absolute_error: 9.2460\n",
      "Epoch 152/200\n",
      "450/450 [==============================] - 27s 61ms/step - loss: 111.7662 - mean_absolute_error: 8.1101 - val_loss: 109.2039 - val_mean_absolute_error: 8.7284\n",
      "Epoch 153/200\n",
      "450/450 [==============================] - 27s 61ms/step - loss: 107.7767 - mean_absolute_error: 8.0316 - val_loss: 106.0895 - val_mean_absolute_error: 8.5978\n",
      "Epoch 154/200\n",
      "450/450 [==============================] - 27s 61ms/step - loss: 102.3356 - mean_absolute_error: 7.9205 - val_loss: 107.0984 - val_mean_absolute_error: 8.6472\n",
      "Epoch 155/200\n",
      "450/450 [==============================] - 27s 61ms/step - loss: 102.3694 - mean_absolute_error: 7.8946 - val_loss: 120.2581 - val_mean_absolute_error: 8.9675\n",
      "Epoch 156/200\n",
      "450/450 [==============================] - 27s 61ms/step - loss: 102.9134 - mean_absolute_error: 7.7816 - val_loss: 185.4166 - val_mean_absolute_error: 10.9780\n",
      "Epoch 157/200\n",
      "450/450 [==============================] - 28s 61ms/step - loss: 102.5790 - mean_absolute_error: 7.7736 - val_loss: 117.1924 - val_mean_absolute_error: 9.2157\n",
      "Epoch 158/200\n",
      "450/450 [==============================] - 27s 61ms/step - loss: 106.3258 - mean_absolute_error: 7.9858 - val_loss: 111.6892 - val_mean_absolute_error: 8.9489\n",
      "Epoch 159/200\n",
      "450/450 [==============================] - 27s 61ms/step - loss: 113.3050 - mean_absolute_error: 8.1935 - val_loss: 118.1946 - val_mean_absolute_error: 9.2268\n",
      "Epoch 160/200\n",
      "450/450 [==============================] - 27s 61ms/step - loss: 107.9855 - mean_absolute_error: 8.0616 - val_loss: 109.4108 - val_mean_absolute_error: 8.8650\n",
      "Epoch 161/200\n",
      "450/450 [==============================] - 27s 61ms/step - loss: 118.0762 - mean_absolute_error: 8.4729 - val_loss: 119.9051 - val_mean_absolute_error: 8.9220\n",
      "Epoch 162/200\n",
      "450/450 [==============================] - 27s 61ms/step - loss: 110.2227 - mean_absolute_error: 8.0678 - val_loss: 112.5605 - val_mean_absolute_error: 8.8994\n",
      "Epoch 163/200\n",
      "450/450 [==============================] - 27s 61ms/step - loss: 104.2083 - mean_absolute_error: 8.0616 - val_loss: 119.3539 - val_mean_absolute_error: 9.1722\n",
      "Epoch 164/200\n",
      "450/450 [==============================] - 27s 61ms/step - loss: 101.8834 - mean_absolute_error: 7.5242 - val_loss: 107.8025 - val_mean_absolute_error: 8.7232\n",
      "Epoch 165/200\n",
      "450/450 [==============================] - 27s 61ms/step - loss: 108.7629 - mean_absolute_error: 7.9898 - val_loss: 110.9054 - val_mean_absolute_error: 8.8350\n",
      "Epoch 166/200\n",
      "450/450 [==============================] - 27s 61ms/step - loss: 102.9649 - mean_absolute_error: 7.9287 - val_loss: 100.1178 - val_mean_absolute_error: 8.5881\n",
      "Epoch 167/200\n",
      "450/450 [==============================] - 27s 61ms/step - loss: 104.1646 - mean_absolute_error: 7.7253 - val_loss: 134.1902 - val_mean_absolute_error: 9.4678\n",
      "Epoch 168/200\n",
      "450/450 [==============================] - 27s 61ms/step - loss: 107.6514 - mean_absolute_error: 7.9284 - val_loss: 133.1403 - val_mean_absolute_error: 9.3537\n",
      "Epoch 169/200\n",
      "450/450 [==============================] - 27s 61ms/step - loss: 116.7449 - mean_absolute_error: 8.1947 - val_loss: 122.9615 - val_mean_absolute_error: 8.9513\n",
      "Epoch 170/200\n",
      "450/450 [==============================] - 27s 61ms/step - loss: 93.0139 - mean_absolute_error: 7.5078 - val_loss: 104.4045 - val_mean_absolute_error: 8.4451\n",
      "Epoch 171/200\n",
      "450/450 [==============================] - 27s 61ms/step - loss: 115.6757 - mean_absolute_error: 8.4710 - val_loss: 117.8136 - val_mean_absolute_error: 8.9112\n",
      "Epoch 172/200\n",
      "450/450 [==============================] - 27s 61ms/step - loss: 101.0320 - mean_absolute_error: 7.8876 - val_loss: 117.8112 - val_mean_absolute_error: 8.7138\n",
      "Epoch 173/200\n",
      "450/450 [==============================] - 27s 61ms/step - loss: 128.7716 - mean_absolute_error: 8.5789 - val_loss: 128.6102 - val_mean_absolute_error: 9.1601\n",
      "Epoch 174/200\n",
      "450/450 [==============================] - 27s 61ms/step - loss: 95.3136 - mean_absolute_error: 7.6404 - val_loss: 130.1360 - val_mean_absolute_error: 9.2892\n",
      "Epoch 175/200\n",
      "450/450 [==============================] - 27s 61ms/step - loss: 106.7497 - mean_absolute_error: 8.0044 - val_loss: 110.6136 - val_mean_absolute_error: 8.7215\n",
      "Epoch 176/200\n",
      "450/450 [==============================] - 27s 61ms/step - loss: 97.5649 - mean_absolute_error: 7.7310 - val_loss: 153.7051 - val_mean_absolute_error: 10.0572\n",
      "Epoch 177/200\n",
      "450/450 [==============================] - 27s 61ms/step - loss: 105.8155 - mean_absolute_error: 8.0535 - val_loss: 110.6582 - val_mean_absolute_error: 8.7252\n",
      "Epoch 178/200\n",
      "450/450 [==============================] - 27s 61ms/step - loss: 108.1394 - mean_absolute_error: 7.9673 - val_loss: 128.8917 - val_mean_absolute_error: 9.3257\n",
      "Epoch 179/200\n",
      "450/450 [==============================] - 27s 61ms/step - loss: 111.1042 - mean_absolute_error: 7.9467 - val_loss: 120.1852 - val_mean_absolute_error: 9.1884\n",
      "Epoch 180/200\n",
      "450/450 [==============================] - 27s 61ms/step - loss: 99.5522 - mean_absolute_error: 7.8140 - val_loss: 107.5900 - val_mean_absolute_error: 8.8215\n",
      "Epoch 181/200\n",
      "450/450 [==============================] - 27s 61ms/step - loss: 110.5557 - mean_absolute_error: 7.8686 - val_loss: 142.7637 - val_mean_absolute_error: 9.5822\n",
      "Epoch 182/200\n",
      "450/450 [==============================] - 28s 61ms/step - loss: 103.6172 - mean_absolute_error: 8.0183 - val_loss: 138.1357 - val_mean_absolute_error: 9.5159\n",
      "Epoch 183/200\n",
      "450/450 [==============================] - 27s 61ms/step - loss: 97.9503 - mean_absolute_error: 7.6308 - val_loss: 116.7420 - val_mean_absolute_error: 9.1258\n",
      "Epoch 184/200\n",
      "450/450 [==============================] - 27s 61ms/step - loss: 99.6720 - mean_absolute_error: 7.8640 - val_loss: 121.4483 - val_mean_absolute_error: 9.0619\n",
      "Epoch 185/200\n",
      "450/450 [==============================] - 28s 61ms/step - loss: 107.7508 - mean_absolute_error: 7.8747 - val_loss: 111.3501 - val_mean_absolute_error: 8.9451\n",
      "Epoch 186/200\n",
      "450/450 [==============================] - 27s 61ms/step - loss: 94.3006 - mean_absolute_error: 7.5282 - val_loss: 108.0789 - val_mean_absolute_error: 9.0162\n",
      "Epoch 187/200\n",
      "450/450 [==============================] - 28s 61ms/step - loss: 121.2483 - mean_absolute_error: 8.2187 - val_loss: 131.1665 - val_mean_absolute_error: 9.7333\n",
      "Epoch 188/200\n",
      "450/450 [==============================] - 28s 61ms/step - loss: 113.5896 - mean_absolute_error: 8.3509 - val_loss: 124.2298 - val_mean_absolute_error: 9.5504\n",
      "Epoch 189/200\n",
      "450/450 [==============================] - 27s 61ms/step - loss: 116.9906 - mean_absolute_error: 8.1158 - val_loss: 145.1885 - val_mean_absolute_error: 10.0124\n",
      "Epoch 190/200\n"
     ]
    },
    {
     "name": "stdout",
     "output_type": "stream",
     "text": [
      "450/450 [==============================] - 28s 61ms/step - loss: 117.3724 - mean_absolute_error: 8.3032 - val_loss: 109.9711 - val_mean_absolute_error: 8.9332\n",
      "Epoch 191/200\n",
      "450/450 [==============================] - 28s 61ms/step - loss: 105.8538 - mean_absolute_error: 7.9853 - val_loss: 144.8848 - val_mean_absolute_error: 9.9151\n",
      "Epoch 192/200\n",
      "450/450 [==============================] - 28s 61ms/step - loss: 92.0485 - mean_absolute_error: 7.3023 - val_loss: 119.6595 - val_mean_absolute_error: 9.2108\n",
      "Epoch 193/200\n",
      "450/450 [==============================] - 28s 61ms/step - loss: 107.7130 - mean_absolute_error: 7.9128 - val_loss: 108.4973 - val_mean_absolute_error: 8.9090\n",
      "Epoch 194/200\n",
      "450/450 [==============================] - 28s 61ms/step - loss: 99.3885 - mean_absolute_error: 7.8825 - val_loss: 117.5525 - val_mean_absolute_error: 9.0662\n",
      "Epoch 195/200\n",
      "450/450 [==============================] - 27s 61ms/step - loss: 102.2757 - mean_absolute_error: 7.9968 - val_loss: 110.2779 - val_mean_absolute_error: 8.7217\n",
      "Epoch 196/200\n",
      "450/450 [==============================] - 27s 61ms/step - loss: 102.9498 - mean_absolute_error: 7.7829 - val_loss: 122.8998 - val_mean_absolute_error: 9.1592\n",
      "Epoch 197/200\n",
      "450/450 [==============================] - 28s 61ms/step - loss: 97.9154 - mean_absolute_error: 7.6660 - val_loss: 115.0535 - val_mean_absolute_error: 9.0777\n",
      "Epoch 198/200\n",
      "450/450 [==============================] - 28s 61ms/step - loss: 100.0441 - mean_absolute_error: 7.7520 - val_loss: 165.3201 - val_mean_absolute_error: 10.5597\n",
      "Epoch 199/200\n",
      "450/450 [==============================] - 28s 61ms/step - loss: 121.9853 - mean_absolute_error: 8.6165 - val_loss: 140.3698 - val_mean_absolute_error: 9.8753\n",
      "Epoch 200/200\n",
      "450/450 [==============================] - 28s 61ms/step - loss: 108.1216 - mean_absolute_error: 8.0181 - val_loss: 158.1727 - val_mean_absolute_error: 10.2785\n"
     ]
    }
   ],
   "source": [
    "model.compile(loss=mse, optimizer=Adadelta(lr=0.01), metrics=['mae'])\n",
    "history = model.fit(x=X, y=y, batch_size=5, epochs=200, validation_split=0.1)"
   ]
  },
  {
   "cell_type": "code",
   "execution_count": 9,
   "metadata": {},
   "outputs": [],
   "source": [
    "y_pred = model.predict(X, batch_size=1)"
   ]
  },
  {
   "cell_type": "code",
   "execution_count": 10,
   "metadata": {},
   "outputs": [
    {
     "name": "stdout",
     "output_type": "stream",
     "text": [
      "18.856604226653438\n"
     ]
    },
    {
     "data": {
      "text/plain": [
       "dict_keys(['val_loss', 'val_mean_absolute_error', 'loss', 'mean_absolute_error'])"
      ]
     },
     "execution_count": 10,
     "metadata": {},
     "output_type": "execute_result"
    }
   ],
   "source": [
    "print(np.mean(np.abs(y-y_pred)))\n",
    "history.history.keys()"
   ]
  },
  {
   "cell_type": "code",
   "execution_count": 11,
   "metadata": {},
   "outputs": [
    {
     "data": {
      "text/plain": [
       "[<matplotlib.lines.Line2D at 0x7f048c7a90b8>]"
      ]
     },
     "execution_count": 11,
     "metadata": {},
     "output_type": "execute_result"
    },
    {
     "data": {
      "image/png": "[encoded data removed]",
      "text/plain": [
       "<Figure size 432x288 with 1 Axes>"
      ]
     },
     "metadata": {},
     "output_type": "display_data"
    }
   ],
   "source": [
    "plt.plot(history.history['loss'])\n",
    "plt.plot(history.history['val_loss'])"
   ]
  },
  {
   "cell_type": "code",
   "execution_count": 12,
   "metadata": {},
   "outputs": [
    {
     "data": {
      "text/plain": [
       "[<matplotlib.lines.Line2D at 0x7f048e967f98>]"
      ]
     },
     "execution_count": 12,
     "metadata": {},
     "output_type": "execute_result"
    },
    {
     "data": {
      "image/png": "[encoded data removed]",
      "text/plain": [
       "<Figure size 432x288 with 1 Axes>"
      ]
     },
     "metadata": {},
     "output_type": "display_data"
    }
   ],
   "source": [
    "plt.plot(history.history['mean_absolute_error'])\n",
    "plt.plot(history.history['val_mean_absolute_error'])"
   ]
  },
  {
   "cell_type": "code",
   "execution_count": null,
   "metadata": {},
   "outputs": [],
   "source": []
  },
  {
   "cell_type": "code",
   "execution_count": null,
   "metadata": {},
   "outputs": [],
   "source": []
  }
 ],
 "metadata": {
  "kernelspec": {
   "display_name": "Python 3",
   "language": "python",
   "name": "python3"
  },
  "language_info": {
   "codemirror_mode": {
    "name": "ipython",
    "version": 3
   },
   "file_extension": ".py",
   "mimetype": "text/x-python",
   "name": "python",
   "nbconvert_exporter": "python",
   "pygments_lexer": "ipython3",
   "version": "3.6.7"
  }
 },
 "nbformat": 4,
 "nbformat_minor": 2
}
