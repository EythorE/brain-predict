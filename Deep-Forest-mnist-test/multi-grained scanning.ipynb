{
 "cells": [
  {
   "cell_type": "code",
   "execution_count": 1,
   "metadata": {},
   "outputs": [
    {
     "name": "stdout",
     "output_type": "stream",
     "text": [
      "Loading dataset...\n",
      "Done\n"
     ]
    }
   ],
   "source": [
    "import numpy as np\n",
    "\n",
    "from mnist import MNIST\n",
    "from sklearn.ensemble import RandomForestClassifier\n",
    "from sklearn.metrics import accuracy_score\n",
    "\n",
    "N_CLASSES = 10\n",
    "\n",
    "print(\"Loading dataset...\")\n",
    "mndata = MNIST(\"./data/\")\n",
    "images, labels = mndata.load_training()\n",
    "images = np.array(images).reshape(-1,28,28)\n",
    "print(\"Done\")"
   ]
  },
  {
   "cell_type": "code",
   "execution_count": 2,
   "metadata": {},
   "outputs": [],
   "source": [
    "def getSlides(X, windowSize):\n",
    "    X_slides = []\n",
    "    for i in range(X.shape[1]-windowSize+1):\n",
    "        for j in range(X.shape[2]-windowSize+1):\n",
    "            X_slides.append(X[:,i:i+10,j:j+10])\n",
    "            \n",
    "    n_slides = (X.shape[1]-windowSize+1)*(X.shape[2]-windowSize+1)\n",
    "    new_shape = ( n_slides, X.shape[0], windowSize**2 )     \n",
    "    X_slides = np.array(X_slides).reshape(new_shape)  # (slides, samples, 10x10)\n",
    "    return X_slides.reshape( (n_slides*X.shape[0], windowSize**2), order='F'), n_slides #(samplesXslides, 28x28)\n",
    "\n",
    "def getLabels(y, numSlides):\n",
    "    return np.array([y for n in range(numSlides)]).reshape(-1, order='F')"
   ]
  },
  {
   "cell_type": "code",
   "execution_count": 3,
   "metadata": {},
   "outputs": [],
   "source": [
    "class MultiGrainedScanning:\n",
    "    def __init__(self, windowSize, clfs):\n",
    "        self.clfs = clfs # list of classifiers\n",
    "        self.windowSize = windowSize\n",
    "    \n",
    "    def train(self, X, y):\n",
    "        X, n_slides = getSlides(X, self.windowSize)\n",
    "        y = getLabels(y, n_slides)\n",
    "        [clf.fit(X, y) for clf in self.clfs]\n",
    "        \n",
    "    def predict_proba(self, X):\n",
    "        X, n_slides = getSlides(X, self.windowSize)\n",
    "        re-=sults = [clf.predict_proba(X).reshape(-1, n_slides, N_CLASSES) for clf in self.clfs]\n",
    "        return np.concatenate(results, axis=1)"
   ]
  },
  {
   "cell_type": "code",
   "execution_count": 4,
   "metadata": {},
   "outputs": [
    {
     "data": {
      "text/plain": [
       "(1000, 722, 10)"
      ]
     },
     "execution_count": 4,
     "metadata": {},
     "output_type": "execute_result"
    }
   ],
   "source": [
    "clf1 = RandomForestClassifier(n_estimators=500, max_leaf_nodes = 100, n_jobs=6)\n",
    "clf2 = RandomForestClassifier(n_estimators=500, max_leaf_nodes = 100, n_jobs=6)\n",
    "mgs = MultiGrainedScanning(10, [clf1, clf2])\n",
    "# Train on the first 10000 images:\n",
    "train_x = images[:10000]\n",
    "train_y = labels[:10000]\n",
    "\n",
    "mgs.train(train_x, train_y)\n",
    "\n",
    "test_x = images[-1000:]\n",
    "test_y = labels[-1000:]\n",
    "predictions = mgs.predict_proba(test_x)\n",
    "predictions.shape"
   ]
  },
  {
   "cell_type": "code",
   "execution_count": 5,
   "metadata": {},
   "outputs": [
    {
     "name": "stdout",
     "output_type": "stream",
     "text": [
      "accuracy: 0.773\n"
     ]
    }
   ],
   "source": [
    "ave = np.average(predictions, axis = 1)\n",
    "pred = np.argmax(ave, axis=1)\n",
    "acc = np.sum(pred==test_y)/len(pred)\n",
    "print(\"accuracy:\", acc)"
   ]
  }
 ],
 "metadata": {
  "kernelspec": {
   "display_name": "Python 3",
   "language": "python",
   "name": "python3"
  },
  "language_info": {
   "codemirror_mode": {
    "name": "ipython",
    "version": 3
   },
   "file_extension": ".py",
   "mimetype": "text/x-python",
   "name": "python",
   "nbconvert_exporter": "python",
   "pygments_lexer": "ipython3",
   "version": "3.6.7"
  }
 },
 "nbformat": 4,
 "nbformat_minor": 2
}
