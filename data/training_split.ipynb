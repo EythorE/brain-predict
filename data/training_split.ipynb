{
 "cells": [
  {
   "cell_type": "code",
   "execution_count": 64,
   "metadata": {},
   "outputs": [],
   "source": [
    "import os\n",
    "import numpy as np\n",
    "import pandas as pd"
   ]
  },
  {
   "cell_type": "code",
   "execution_count": 65,
   "metadata": {},
   "outputs": [
    {
     "data": {
      "text/html": [
       "<div>\n",
       "<style scoped>\n",
       "    .dataframe tbody tr th:only-of-type {\n",
       "        vertical-align: middle;\n",
       "    }\n",
       "\n",
       "    .dataframe tbody tr th {\n",
       "        vertical-align: top;\n",
       "    }\n",
       "\n",
       "    .dataframe thead th {\n",
       "        text-align: right;\n",
       "    }\n",
       "</style>\n",
       "<table border=\"1\" class=\"dataframe\">\n",
       "  <thead>\n",
       "    <tr style=\"text-align: right;\">\n",
       "      <th></th>\n",
       "      <th>subject</th>\n",
       "      <th>file</th>\n",
       "      <th>age</th>\n",
       "      <th>sex</th>\n",
       "    </tr>\n",
       "  </thead>\n",
       "  <tbody>\n",
       "    <tr>\n",
       "      <th>0</th>\n",
       "      <td>OAS30748</td>\n",
       "      <td>./OASIS3_brains/sub-OAS30748_ses-d0219_run-02_...</td>\n",
       "      <td>-1.0</td>\n",
       "      <td>f</td>\n",
       "    </tr>\n",
       "    <tr>\n",
       "      <th>1</th>\n",
       "      <td>OAS30760</td>\n",
       "      <td>./OASIS3_brains/sub-OAS30760_ses-d3837_run-01_...</td>\n",
       "      <td>-1.0</td>\n",
       "      <td>m</td>\n",
       "    </tr>\n",
       "    <tr>\n",
       "      <th>2</th>\n",
       "      <td>OAS30734</td>\n",
       "      <td>./OASIS3_brains/sub-OAS30734_ses-d0097_run-02_...</td>\n",
       "      <td>-1.0</td>\n",
       "      <td>f</td>\n",
       "    </tr>\n",
       "    <tr>\n",
       "      <th>3</th>\n",
       "      <td>OAS30967</td>\n",
       "      <td>./OASIS3_brains/sub-OAS30967_ses-d0854_run-02_...</td>\n",
       "      <td>-1.0</td>\n",
       "      <td>f</td>\n",
       "    </tr>\n",
       "    <tr>\n",
       "      <th>4</th>\n",
       "      <td>OAS30314</td>\n",
       "      <td>./OASIS3_brains/sub-OAS30314_ses-d7814_run-01_...</td>\n",
       "      <td>-1.0</td>\n",
       "      <td>f</td>\n",
       "    </tr>\n",
       "  </tbody>\n",
       "</table>\n",
       "</div>"
      ],
      "text/plain": [
       "    subject                                               file  age sex\n",
       "0  OAS30748  ./OASIS3_brains/sub-OAS30748_ses-d0219_run-02_... -1.0   f\n",
       "1  OAS30760  ./OASIS3_brains/sub-OAS30760_ses-d3837_run-01_... -1.0   m\n",
       "2  OAS30734  ./OASIS3_brains/sub-OAS30734_ses-d0097_run-02_... -1.0   f\n",
       "3  OAS30967  ./OASIS3_brains/sub-OAS30967_ses-d0854_run-02_... -1.0   f\n",
       "4  OAS30314  ./OASIS3_brains/sub-OAS30314_ses-d7814_run-01_... -1.0   f"
      ]
     },
     "execution_count": 65,
     "metadata": {},
     "output_type": "execute_result"
    }
   ],
   "source": [
    "df1 = pd.read_csv('OASIS3_labels.csv')\n",
    "df1.head(5)"
   ]
  },
  {
   "cell_type": "code",
   "execution_count": 66,
   "metadata": {},
   "outputs": [
    {
     "data": {
      "text/html": [
       "<div>\n",
       "<style scoped>\n",
       "    .dataframe tbody tr th:only-of-type {\n",
       "        vertical-align: middle;\n",
       "    }\n",
       "\n",
       "    .dataframe tbody tr th {\n",
       "        vertical-align: top;\n",
       "    }\n",
       "\n",
       "    .dataframe thead th {\n",
       "        text-align: right;\n",
       "    }\n",
       "</style>\n",
       "<table border=\"1\" class=\"dataframe\">\n",
       "  <thead>\n",
       "    <tr style=\"text-align: right;\">\n",
       "      <th></th>\n",
       "      <th>subject</th>\n",
       "      <th>file</th>\n",
       "      <th>age</th>\n",
       "      <th>sex</th>\n",
       "    </tr>\n",
       "  </thead>\n",
       "  <tbody>\n",
       "    <tr>\n",
       "      <th>0</th>\n",
       "      <td>IXI277</td>\n",
       "      <td>./IXI_brains/IXI277-HH-1770-T1.nii.gz</td>\n",
       "      <td>61.34</td>\n",
       "      <td>f</td>\n",
       "    </tr>\n",
       "    <tr>\n",
       "      <th>1</th>\n",
       "      <td>IXI043</td>\n",
       "      <td>./IXI_brains/IXI043-Guys-0714-T1.nii.gz</td>\n",
       "      <td>22.65</td>\n",
       "      <td>f</td>\n",
       "    </tr>\n",
       "    <tr>\n",
       "      <th>2</th>\n",
       "      <td>IXI115</td>\n",
       "      <td>./IXI_brains/IXI115-Guys-0738-T1.nii.gz</td>\n",
       "      <td>72.13</td>\n",
       "      <td>m</td>\n",
       "    </tr>\n",
       "    <tr>\n",
       "      <th>3</th>\n",
       "      <td>IXI225</td>\n",
       "      <td>./IXI_brains/IXI225-Guys-0832-T1.nii.gz</td>\n",
       "      <td>47.01</td>\n",
       "      <td>f</td>\n",
       "    </tr>\n",
       "    <tr>\n",
       "      <th>4</th>\n",
       "      <td>IXI206</td>\n",
       "      <td>./IXI_brains/IXI206-HH-1650-T1.nii.gz</td>\n",
       "      <td>50.02</td>\n",
       "      <td>f</td>\n",
       "    </tr>\n",
       "  </tbody>\n",
       "</table>\n",
       "</div>"
      ],
      "text/plain": [
       "  subject                                     file    age sex\n",
       "0  IXI277    ./IXI_brains/IXI277-HH-1770-T1.nii.gz  61.34   f\n",
       "1  IXI043  ./IXI_brains/IXI043-Guys-0714-T1.nii.gz  22.65   f\n",
       "2  IXI115  ./IXI_brains/IXI115-Guys-0738-T1.nii.gz  72.13   m\n",
       "3  IXI225  ./IXI_brains/IXI225-Guys-0832-T1.nii.gz  47.01   f\n",
       "4  IXI206    ./IXI_brains/IXI206-HH-1650-T1.nii.gz  50.02   f"
      ]
     },
     "execution_count": 66,
     "metadata": {},
     "output_type": "execute_result"
    }
   ],
   "source": [
    "df2 = pd.read_csv('IXI_labels.csv')\n",
    "df2.head(5)"
   ]
  },
  {
   "cell_type": "code",
   "execution_count": 67,
   "metadata": {},
   "outputs": [
    {
     "name": "stdout",
     "output_type": "stream",
     "text": [
      "OASIS: 557 IXI: 561\n"
     ]
    }
   ],
   "source": [
    "print('OASIS:',len(df1),'IXI:',len(df2))"
   ]
  },
  {
   "cell_type": "code",
   "execution_count": 68,
   "metadata": {},
   "outputs": [],
   "source": [
    "df1_inicies = np.random.permutation(len(df1))"
   ]
  },
  {
   "cell_type": "code",
   "execution_count": 69,
   "metadata": {},
   "outputs": [],
   "source": [
    "df2_inicies = np.random.permutation(len(df2))"
   ]
  },
  {
   "cell_type": "code",
   "execution_count": 70,
   "metadata": {},
   "outputs": [],
   "source": [
    "df1_test = df1.loc[df1_inicies[0:50]]\n",
    "df1_val = df1.loc[df1_inicies[50:100]]\n",
    "df1_train = df1.loc[df1_inicies[100:]]"
   ]
  },
  {
   "cell_type": "code",
   "execution_count": 71,
   "metadata": {},
   "outputs": [],
   "source": [
    "df2_test = df2.loc[df2_inicies[0:50]]\n",
    "df2_val = df2.loc[df2_inicies[50:100]]\n",
    "df2_train = df2.loc[df2_inicies[100:]]"
   ]
  },
  {
   "cell_type": "code",
   "execution_count": 72,
   "metadata": {},
   "outputs": [],
   "source": [
    "df1_test.to_csv(\"OASIS3_test.csv\", sep=',', index=False)\n",
    "df1_val.to_csv(\"OASIS3_val.csv\", sep=',', index=False)\n",
    "df1_train.to_csv(\"OASIS3_train.csv\", sep=',', index=False)\n",
    "\n",
    "df2_test.to_csv(\"IXI_test.csv\", sep=',', index=False)\n",
    "df2_val.to_csv(\"IXI_val.csv\", sep=',', index=False)\n",
    "df2_train.to_csv(\"IXI_train.csv\", sep=',', index=False)"
   ]
  },
  {
   "cell_type": "code",
   "execution_count": 75,
   "metadata": {},
   "outputs": [],
   "source": [
    "validation = df1_val.append(df2_val, ignore_index=True)\n",
    "train = df1_train.append(df2_train, ignore_index=True)"
   ]
  },
  {
   "cell_type": "code",
   "execution_count": 78,
   "metadata": {},
   "outputs": [
    {
     "data": {
      "text/html": [
       "<div>\n",
       "<style scoped>\n",
       "    .dataframe tbody tr th:only-of-type {\n",
       "        vertical-align: middle;\n",
       "    }\n",
       "\n",
       "    .dataframe tbody tr th {\n",
       "        vertical-align: top;\n",
       "    }\n",
       "\n",
       "    .dataframe thead th {\n",
       "        text-align: right;\n",
       "    }\n",
       "</style>\n",
       "<table border=\"1\" class=\"dataframe\">\n",
       "  <thead>\n",
       "    <tr style=\"text-align: right;\">\n",
       "      <th></th>\n",
       "      <th>subject</th>\n",
       "      <th>file</th>\n",
       "      <th>age</th>\n",
       "      <th>sex</th>\n",
       "    </tr>\n",
       "  </thead>\n",
       "  <tbody>\n",
       "    <tr>\n",
       "      <th>0</th>\n",
       "      <td>OAS30966</td>\n",
       "      <td>./OASIS3_brains/sub-OAS30966_ses-d0903_run-01_...</td>\n",
       "      <td>-1.0</td>\n",
       "      <td>m</td>\n",
       "    </tr>\n",
       "    <tr>\n",
       "      <th>1</th>\n",
       "      <td>OAS30900</td>\n",
       "      <td>./OASIS3_brains/sub-OAS30900_ses-d0051_T1w.nii.gz</td>\n",
       "      <td>-1.0</td>\n",
       "      <td>m</td>\n",
       "    </tr>\n",
       "    <tr>\n",
       "      <th>2</th>\n",
       "      <td>OAS30792</td>\n",
       "      <td>./OASIS3_brains/sub-OAS30792_ses-d1556_T1w.nii.gz</td>\n",
       "      <td>-1.0</td>\n",
       "      <td>f</td>\n",
       "    </tr>\n",
       "    <tr>\n",
       "      <th>3</th>\n",
       "      <td>OAS30782</td>\n",
       "      <td>./OASIS3_brains/sub-OAS30782_ses-d0074_run-01_...</td>\n",
       "      <td>-1.0</td>\n",
       "      <td>m</td>\n",
       "    </tr>\n",
       "    <tr>\n",
       "      <th>4</th>\n",
       "      <td>OAS30559</td>\n",
       "      <td>./OASIS3_brains/sub-OAS30559_ses-d2422_T1w.nii.gz</td>\n",
       "      <td>-1.0</td>\n",
       "      <td>m</td>\n",
       "    </tr>\n",
       "  </tbody>\n",
       "</table>\n",
       "</div>"
      ],
      "text/plain": [
       "    subject                                               file  age sex\n",
       "0  OAS30966  ./OASIS3_brains/sub-OAS30966_ses-d0903_run-01_... -1.0   m\n",
       "1  OAS30900  ./OASIS3_brains/sub-OAS30900_ses-d0051_T1w.nii.gz -1.0   m\n",
       "2  OAS30792  ./OASIS3_brains/sub-OAS30792_ses-d1556_T1w.nii.gz -1.0   f\n",
       "3  OAS30782  ./OASIS3_brains/sub-OAS30782_ses-d0074_run-01_... -1.0   m\n",
       "4  OAS30559  ./OASIS3_brains/sub-OAS30559_ses-d2422_T1w.nii.gz -1.0   m"
      ]
     },
     "execution_count": 78,
     "metadata": {},
     "output_type": "execute_result"
    }
   ],
   "source": [
    "train.head(5)"
   ]
  },
  {
   "cell_type": "code",
   "execution_count": 79,
   "metadata": {},
   "outputs": [
    {
     "data": {
      "text/html": [
       "<div>\n",
       "<style scoped>\n",
       "    .dataframe tbody tr th:only-of-type {\n",
       "        vertical-align: middle;\n",
       "    }\n",
       "\n",
       "    .dataframe tbody tr th {\n",
       "        vertical-align: top;\n",
       "    }\n",
       "\n",
       "    .dataframe thead th {\n",
       "        text-align: right;\n",
       "    }\n",
       "</style>\n",
       "<table border=\"1\" class=\"dataframe\">\n",
       "  <thead>\n",
       "    <tr style=\"text-align: right;\">\n",
       "      <th></th>\n",
       "      <th>subject</th>\n",
       "      <th>file</th>\n",
       "      <th>age</th>\n",
       "      <th>sex</th>\n",
       "    </tr>\n",
       "  </thead>\n",
       "  <tbody>\n",
       "    <tr>\n",
       "      <th>249</th>\n",
       "      <td>OAS30534</td>\n",
       "      <td>./OASIS3_brains/sub-OAS30534_ses-d1174_run-02_...</td>\n",
       "      <td>-1.00</td>\n",
       "      <td>m</td>\n",
       "    </tr>\n",
       "    <tr>\n",
       "      <th>426</th>\n",
       "      <td>OAS30535</td>\n",
       "      <td>./OASIS3_brains/sub-OAS30535_ses-d0139_run-02_...</td>\n",
       "      <td>-1.00</td>\n",
       "      <td>f</td>\n",
       "    </tr>\n",
       "    <tr>\n",
       "      <th>27</th>\n",
       "      <td>OAS30749</td>\n",
       "      <td>./OASIS3_brains/sub-OAS30749_ses-d0046_run-02_...</td>\n",
       "      <td>-1.00</td>\n",
       "      <td>m</td>\n",
       "    </tr>\n",
       "    <tr>\n",
       "      <th>824</th>\n",
       "      <td>IXI063</td>\n",
       "      <td>./IXI_brains/IXI063-Guys-0742-T1.nii.gz</td>\n",
       "      <td>41.12</td>\n",
       "      <td>m</td>\n",
       "    </tr>\n",
       "    <tr>\n",
       "      <th>718</th>\n",
       "      <td>IXI560</td>\n",
       "      <td>./IXI_brains/IXI560-Guys-1070-T1.nii.gz</td>\n",
       "      <td>63.87</td>\n",
       "      <td>m</td>\n",
       "    </tr>\n",
       "  </tbody>\n",
       "</table>\n",
       "</div>"
      ],
      "text/plain": [
       "      subject                                               file    age sex\n",
       "249  OAS30534  ./OASIS3_brains/sub-OAS30534_ses-d1174_run-02_...  -1.00   m\n",
       "426  OAS30535  ./OASIS3_brains/sub-OAS30535_ses-d0139_run-02_...  -1.00   f\n",
       "27   OAS30749  ./OASIS3_brains/sub-OAS30749_ses-d0046_run-02_...  -1.00   m\n",
       "824    IXI063            ./IXI_brains/IXI063-Guys-0742-T1.nii.gz  41.12   m\n",
       "718    IXI560            ./IXI_brains/IXI560-Guys-1070-T1.nii.gz  63.87   m"
      ]
     },
     "execution_count": 79,
     "metadata": {},
     "output_type": "execute_result"
    }
   ],
   "source": [
    "train = train.sample(frac=1)\n",
    "validation = validation.sample(frac=1)\n",
    "train.head(5)"
   ]
  },
  {
   "cell_type": "code",
   "execution_count": 80,
   "metadata": {},
   "outputs": [
    {
     "data": {
      "text/html": [
       "<div>\n",
       "<style scoped>\n",
       "    .dataframe tbody tr th:only-of-type {\n",
       "        vertical-align: middle;\n",
       "    }\n",
       "\n",
       "    .dataframe tbody tr th {\n",
       "        vertical-align: top;\n",
       "    }\n",
       "\n",
       "    .dataframe thead th {\n",
       "        text-align: right;\n",
       "    }\n",
       "</style>\n",
       "<table border=\"1\" class=\"dataframe\">\n",
       "  <thead>\n",
       "    <tr style=\"text-align: right;\">\n",
       "      <th></th>\n",
       "      <th>subject</th>\n",
       "      <th>file</th>\n",
       "      <th>age</th>\n",
       "      <th>sex</th>\n",
       "    </tr>\n",
       "  </thead>\n",
       "  <tbody>\n",
       "    <tr>\n",
       "      <th>21</th>\n",
       "      <td>OAS30535</td>\n",
       "      <td>./OASIS3_brains/sub-OAS30535_ses-d1329_T1w.nii.gz</td>\n",
       "      <td>-1.00</td>\n",
       "      <td>f</td>\n",
       "    </tr>\n",
       "    <tr>\n",
       "      <th>85</th>\n",
       "      <td>IXI476</td>\n",
       "      <td>./IXI_brains/IXI476-IOP-1140-T1.nii.gz</td>\n",
       "      <td>78.36</td>\n",
       "      <td>f</td>\n",
       "    </tr>\n",
       "    <tr>\n",
       "      <th>36</th>\n",
       "      <td>OAS30309</td>\n",
       "      <td>./OASIS3_brains/sub-OAS30309_ses-d0094_T1w.nii.gz</td>\n",
       "      <td>-1.00</td>\n",
       "      <td>f</td>\n",
       "    </tr>\n",
       "    <tr>\n",
       "      <th>93</th>\n",
       "      <td>IXI319</td>\n",
       "      <td>./IXI_brains/IXI319-Guys-0901-T1.nii.gz</td>\n",
       "      <td>59.47</td>\n",
       "      <td>m</td>\n",
       "    </tr>\n",
       "    <tr>\n",
       "      <th>22</th>\n",
       "      <td>OAS30966</td>\n",
       "      <td>./OASIS3_brains/sub-OAS30966_ses-d0189_run-02_...</td>\n",
       "      <td>-1.00</td>\n",
       "      <td>m</td>\n",
       "    </tr>\n",
       "  </tbody>\n",
       "</table>\n",
       "</div>"
      ],
      "text/plain": [
       "     subject                                               file    age sex\n",
       "21  OAS30535  ./OASIS3_brains/sub-OAS30535_ses-d1329_T1w.nii.gz  -1.00   f\n",
       "85    IXI476             ./IXI_brains/IXI476-IOP-1140-T1.nii.gz  78.36   f\n",
       "36  OAS30309  ./OASIS3_brains/sub-OAS30309_ses-d0094_T1w.nii.gz  -1.00   f\n",
       "93    IXI319            ./IXI_brains/IXI319-Guys-0901-T1.nii.gz  59.47   m\n",
       "22  OAS30966  ./OASIS3_brains/sub-OAS30966_ses-d0189_run-02_...  -1.00   m"
      ]
     },
     "execution_count": 80,
     "metadata": {},
     "output_type": "execute_result"
    }
   ],
   "source": [
    "validation.head(5)"
   ]
  },
  {
   "cell_type": "code",
   "execution_count": 81,
   "metadata": {},
   "outputs": [
    {
     "name": "stdout",
     "output_type": "stream",
     "text": [
      "918 100\n"
     ]
    }
   ],
   "source": [
    "print(len(train),len(validation))"
   ]
  },
  {
   "cell_type": "code",
   "execution_count": 82,
   "metadata": {},
   "outputs": [],
   "source": [
    "validation.to_csv(\"validation.csv\", sep=',', index=False)\n",
    "train.to_csv(\"train.csv\", sep=',', index=False)"
   ]
  },
  {
   "cell_type": "code",
   "execution_count": null,
   "metadata": {},
   "outputs": [],
   "source": []
  }
 ],
 "metadata": {
  "kernelspec": {
   "display_name": "Python 3",
   "language": "python",
   "name": "python3"
  },
  "language_info": {
   "codemirror_mode": {
    "name": "ipython",
    "version": 3
   },
   "file_extension": ".py",
   "mimetype": "text/x-python",
   "name": "python",
   "nbconvert_exporter": "python",
   "pygments_lexer": "ipython3",
   "version": "3.6.7"
  }
 },
 "nbformat": 4,
 "nbformat_minor": 2
}
