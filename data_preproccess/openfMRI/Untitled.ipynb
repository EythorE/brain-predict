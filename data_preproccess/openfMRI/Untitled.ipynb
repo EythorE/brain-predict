{
 "cells": [
  {
   "cell_type": "code",
   "execution_count": 1,
   "metadata": {},
   "outputs": [],
   "source": [
    "import os\n",
    "import glob\n",
    "import pandas as pd\n",
    "\n",
    "import numpy as np\n",
    "import nibabel as nib #Read / write access to some common neuroimaging file formats\n",
    "import matplotlib.pyplot as plt"
   ]
  },
  {
   "cell_type": "code",
   "execution_count": 18,
   "metadata": {},
   "outputs": [],
   "source": [
    "path = './openfmri'\n",
    "t1wglob =  '/sub*/anat*/*T1w.nii.gz'\n",
    "dsglop='/ds*'"
   ]
  },
  {
   "cell_type": "code",
   "execution_count": 3,
   "metadata": {},
   "outputs": [
    {
     "data": {
      "text/html": [
       "<div>\n",
       "<style scoped>\n",
       "    .dataframe tbody tr th:only-of-type {\n",
       "        vertical-align: middle;\n",
       "    }\n",
       "\n",
       "    .dataframe tbody tr th {\n",
       "        vertical-align: top;\n",
       "    }\n",
       "\n",
       "    .dataframe thead th {\n",
       "        text-align: right;\n",
       "    }\n",
       "</style>\n",
       "<table border=\"1\" class=\"dataframe\">\n",
       "  <thead>\n",
       "    <tr style=\"text-align: right;\">\n",
       "      <th></th>\n",
       "      <th>dataset</th>\n",
       "      <th>id</th>\n",
       "      <th>age</th>\n",
       "      <th>sex</th>\n",
       "    </tr>\n",
       "  </thead>\n",
       "  <tbody>\n",
       "    <tr>\n",
       "      <th>0</th>\n",
       "      <td>ds000009</td>\n",
       "      <td>sub-01</td>\n",
       "      <td>20.0</td>\n",
       "      <td>f</td>\n",
       "    </tr>\n",
       "    <tr>\n",
       "      <th>1</th>\n",
       "      <td>ds000009</td>\n",
       "      <td>sub-02</td>\n",
       "      <td>26.0</td>\n",
       "      <td>f</td>\n",
       "    </tr>\n",
       "    <tr>\n",
       "      <th>2</th>\n",
       "      <td>ds000009</td>\n",
       "      <td>sub-03</td>\n",
       "      <td>22.0</td>\n",
       "      <td>m</td>\n",
       "    </tr>\n",
       "    <tr>\n",
       "      <th>3</th>\n",
       "      <td>ds000009</td>\n",
       "      <td>sub-04</td>\n",
       "      <td>19.0</td>\n",
       "      <td>m</td>\n",
       "    </tr>\n",
       "    <tr>\n",
       "      <th>4</th>\n",
       "      <td>ds000009</td>\n",
       "      <td>sub-05</td>\n",
       "      <td>20.0</td>\n",
       "      <td>f</td>\n",
       "    </tr>\n",
       "  </tbody>\n",
       "</table>\n",
       "</div>"
      ],
      "text/plain": [
       "    dataset      id   age sex\n",
       "0  ds000009  sub-01  20.0   f\n",
       "1  ds000009  sub-02  26.0   f\n",
       "2  ds000009  sub-03  22.0   m\n",
       "3  ds000009  sub-04  19.0   m\n",
       "4  ds000009  sub-05  20.0   f"
      ]
     },
     "execution_count": 3,
     "metadata": {},
     "output_type": "execute_result"
    }
   ],
   "source": [
    "df = pd.read_csv('filtered_data.csv')\n",
    "df.head(5)"
   ]
  },
  {
   "cell_type": "code",
   "execution_count": 19,
   "metadata": {},
   "outputs": [],
   "source": [
    "files = glob.glob(path+dsglop+t1wglob)"
   ]
  },
  {
   "cell_type": "code",
   "execution_count": 20,
   "metadata": {},
   "outputs": [
    {
     "data": {
      "text/plain": [
       "2856"
      ]
     },
     "execution_count": 20,
     "metadata": {},
     "output_type": "execute_result"
    }
   ],
   "source": [
    "len(files)"
   ]
  },
  {
   "cell_type": "code",
   "execution_count": 22,
   "metadata": {},
   "outputs": [
    {
     "data": {
      "text/plain": [
       "['./openfmri/ds000202/sub-1081/anat/sub-1081_T1w.nii.gz',\n",
       " './openfmri/ds000202/sub-1029/anat/sub-1029_T1w.nii.gz',\n",
       " './openfmri/ds000202/sub-1026/anat/sub-1026_T1w.nii.gz',\n",
       " './openfmri/ds000202/sub-1040/anat/sub-1040_T1w.nii.gz',\n",
       " './openfmri/ds000202/sub-1010/anat/sub-1010_T1w.nii.gz',\n",
       " './openfmri/ds000202/sub-1030/anat/sub-1030_T1w.nii.gz',\n",
       " './openfmri/ds000202/sub-1070/anat/sub-1070_T1w.nii.gz',\n",
       " './openfmri/ds000202/sub-1041/anat/sub-1041_T1w.nii.gz',\n",
       " './openfmri/ds000202/sub-1078/anat/sub-1078_T1w.nii.gz',\n",
       " './openfmri/ds000202/sub-1021/anat/sub-1021_T1w.nii.gz',\n",
       " './openfmri/ds000202/sub-1079/anat/sub-1079_T1w.nii.gz',\n",
       " './openfmri/ds000202/sub-1057/anat/sub-1057_T1w.nii.gz',\n",
       " './openfmri/ds000202/sub-1086/anat/sub-1086_T1w.nii.gz',\n",
       " './openfmri/ds000202/sub-1017/anat/sub-1017_T1w.nii.gz',\n",
       " './openfmri/ds000202/sub-1074/anat/sub-1074_T1w.nii.gz',\n",
       " './openfmri/ds000202/sub-1015/anat/sub-1015_T1w.nii.gz',\n",
       " './openfmri/ds000202/sub-1042/anat/sub-1042_T1w.nii.gz',\n",
       " './openfmri/ds000202/sub-1075/anat/sub-1075_T1w.nii.gz',\n",
       " './openfmri/ds000202/sub-1033/anat/sub-1033_T1w.nii.gz',\n",
       " './openfmri/ds000202/sub-1028/anat/sub-1028_T1w.nii.gz']"
      ]
     },
     "execution_count": 22,
     "metadata": {},
     "output_type": "execute_result"
    }
   ],
   "source": [
    "files[300:320]"
   ]
  },
  {
   "cell_type": "code",
   "execution_count": 11,
   "metadata": {},
   "outputs": [
    {
     "ename": "AttributeError",
     "evalue": "module 'posixpath' has no attribute 'pwd'",
     "output_type": "error",
     "traceback": [
      "\u001b[0;31m---------------------------------------------------------------------------\u001b[0m",
      "\u001b[0;31mAttributeError\u001b[0m                            Traceback (most recent call last)",
      "\u001b[0;32m<ipython-input-11-7b9603f54a69>\u001b[0m in \u001b[0;36m<module>\u001b[0;34m()\u001b[0m\n\u001b[0;32m----> 1\u001b[0;31m \u001b[0mos\u001b[0m\u001b[0;34m.\u001b[0m\u001b[0mpath\u001b[0m\u001b[0;34m.\u001b[0m\u001b[0mpwd\u001b[0m\u001b[0;34m(\u001b[0m\u001b[0;34m)\u001b[0m\u001b[0;34m\u001b[0m\u001b[0;34m\u001b[0m\u001b[0m\n\u001b[0m",
      "\u001b[0;31mAttributeError\u001b[0m: module 'posixpath' has no attribute 'pwd'"
     ]
    }
   ],
   "source": [
    "os.path.pwd()"
   ]
  },
  {
   "cell_type": "code",
   "execution_count": 12,
   "metadata": {},
   "outputs": [
    {
     "data": {
      "text/plain": [
       "'/media/eythor/data/openfMRI'"
      ]
     },
     "execution_count": 12,
     "metadata": {},
     "output_type": "execute_result"
    }
   ],
   "source": [
    "os.getcwd()"
   ]
  },
  {
   "cell_type": "code",
   "execution_count": null,
   "metadata": {},
   "outputs": [],
   "source": []
  }
 ],
 "metadata": {
  "kernelspec": {
   "display_name": "Python 3",
   "language": "python",
   "name": "python3"
  },
  "language_info": {
   "codemirror_mode": {
    "name": "ipython",
    "version": 3
   },
   "file_extension": ".py",
   "mimetype": "text/x-python",
   "name": "python",
   "nbconvert_exporter": "python",
   "pygments_lexer": "ipython3",
   "version": "3.6.7"
  }
 },
 "nbformat": 4,
 "nbformat_minor": 2
}
